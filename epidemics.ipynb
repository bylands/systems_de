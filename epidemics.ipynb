{
 "cells": [
  {
   "cell_type": "code",
   "execution_count": null,
   "metadata": {},
   "outputs": [],
   "source": [
    "from scipy.integrate import solve_ivp\n",
    "import matplotlib.pyplot as plt\n",
    "import numpy as np\n",
    "from numpy.linalg import linalg as LA"
   ]
  },
  {
   "cell_type": "code",
   "execution_count": null,
   "metadata": {},
   "outputs": [],
   "source": [
    "def exact_sol(t, x0, M):\n",
    "    eva, eve = LA.eig(M)\n",
    "    coeff = np.dot(LA.inv(eve), x0)\n",
    "\n",
    "    sol = np.zeros((len(x0), len(t)))\n",
    "\n",
    "    for i, ev in enumerate(eva):\n",
    "        for j, comp in enumerate(eve[:, i]):\n",
    "            sol[j] += np.real(comp * coeff[i] * np.exp(ev * t))\n",
    "\n",
    "    return sol\n",
    "    \n",
    "\n",
    "a = 0.05\n",
    "r = 0.5\n",
    "d = 0.05\n",
    "\n",
    "M = np.array([[-a, r, 0], [a, -d-r, 0], [0, d, 0]])\n",
    "\n",
    "x0 = np.array([1000, 1, 0])\n",
    "\n",
    "tmin = 0\n",
    "tmax = 100\n",
    "N = 1000\n",
    "t_eval = np.linspace(tmin, tmax, N)\n",
    "\n",
    "S, I, D = exact_sol(t_eval, x0, M)\n",
    "\n",
    "\n",
    "plt.plot(t_eval, S, label='healthy')\n",
    "plt.plot(t_eval, I, label='infected')\n",
    "plt.plot(t_eval, D, label='diseased')\n",
    "    \n",
    "plt.grid()\n",
    "plt.xlabel('time')\n",
    "plt.legend()\n"
   ]
  },
  {
   "cell_type": "code",
   "execution_count": null,
   "metadata": {},
   "outputs": [],
   "source": [
    "eva, eve = LA.eigh(M)"
   ]
  },
  {
   "cell_type": "code",
   "execution_count": null,
   "metadata": {},
   "outputs": [],
   "source": [
    "eva"
   ]
  },
  {
   "cell_type": "code",
   "execution_count": null,
   "metadata": {},
   "outputs": [],
   "source": []
  }
 ],
 "metadata": {
  "language_info": {
   "name": "python",
   "pygments_lexer": "ipython3"
  }
 },
 "nbformat": 4,
 "nbformat_minor": 2
}
