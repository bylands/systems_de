{
 "cells": [
  {
   "cell_type": "code",
   "execution_count": null,
   "metadata": {},
   "outputs": [],
   "source": [
    "import matplotlib.pyplot as plt\n",
    "import matplotlib.pyplot as plt\n",
    "from scipy.integrate import solve_ivp\n",
    "import numpy as np"
   ]
  },
  {
   "cell_type": "code",
   "execution_count": null,
   "metadata": {},
   "outputs": [],
   "source": [
    "def de(t, x, M):\n",
    "    return np.dot(M, x)\n",
    "\n",
    "# define matrix\n",
    "M = np.array([[1, -2], [3, -2]])\n",
    "\n",
    "# find eigenvalues and eigenvectors\n",
    "la, v = np.linalg.eig(M)\n",
    "la1, la2 = la\n",
    "v1, v2 = v.transpose()\n",
    "\n",
    "# parameters for vector field\n",
    "xmin = -5\n",
    "xmax = +5\n",
    "ymin = -5\n",
    "ymax = +5\n",
    "N = 25\n",
    "\n",
    "X, Y = np.meshgrid(np.linspace(xmin, xmax, N), np.linspace(ymin, ymax, N))\n",
    "U = M[0, 0] * X + M[0, 1] * Y\n",
    "V = M[1, 0] * X + M[1, 1] * Y\n",
    "\n",
    "# Normalize arrows\n",
    "N = np.sqrt(U ** 2 + V ** 2)\n",
    "U = U / N\n",
    "V = V / N\n",
    "plt.figure(figsize=(5, 5))\n",
    "plt.quiver(X, Y, U, V, angles=\"xy\")\n",
    "\n",
    "\n",
    "# list of initial conditions\n",
    "nx = ny = 5\n",
    "step_x = (xmax-xmin)/(2*nx-1)\n",
    "step_y = (ymax-ymin)/(2*ny-1)\n",
    "\n",
    "init_list = [[i*step_x, ymin] for i in range(nx) for j in range(ny)]\n",
    "init_list += [[xmin+i*step_x, ymax] for i in range(nx) for j in range(ny)]\n",
    "\n",
    "# Solution curves\n",
    "tmin = 0.0\n",
    "tmax = 10.0\n",
    "N_eval = 1000\n",
    "t_eval = np.linspace(tmin, tmax, N_eval)\n",
    "\n",
    "for x0 in init_list:\n",
    "    sol = solve_ivp(de, [tmin, tmax], x0, args=(M,), t_eval=t_eval)\n",
    "    plt.plot(sol.y[0], sol.y[1], color='brown', linewidth=0.2)\n",
    "\n",
    "plt.xlim([xmin, xmax])\n",
    "plt.ylim([ymin, ymax])\n",
    "plt.xlabel(r\"$x$\")\n",
    "plt.ylabel(r\"$y$\")\n"
   ]
  },
  {
   "cell_type": "code",
   "execution_count": null,
   "metadata": {},
   "outputs": [],
   "source": [
    "la"
   ]
  },
  {
   "cell_type": "code",
   "execution_count": null,
   "metadata": {},
   "outputs": [],
   "source": []
  }
 ],
 "metadata": {
  "language_info": {
   "name": "python",
   "pygments_lexer": "ipython3"
  }
 },
 "nbformat": 4,
 "nbformat_minor": 2
}
