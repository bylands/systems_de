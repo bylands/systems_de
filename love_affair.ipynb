{
 "cells": [
  {
   "cell_type": "code",
   "execution_count": null,
   "metadata": {},
   "outputs": [],
   "source": [
    "from scipy.integrate import solve_ivp\n",
    "import matplotlib.pyplot as plt\n",
    "import numpy as np\n",
    "from numpy.linalg import linalg as LA"
   ]
  },
  {
   "cell_type": "code",
   "execution_count": null,
   "metadata": {},
   "outputs": [],
   "source": [
    "def exact_sol(t, x0, M):\n",
    "    eva, eve = LA.eig(M)\n",
    "    coeff = np.dot(LA.inv(eve), x0)\n",
    "\n",
    "    sol = np.zeros((len(x0), len(t)))\n",
    "\n",
    "    for i, ev in enumerate(eva):\n",
    "        for j, comp in enumerate(eve[:, i]):\n",
    "            sol[j] += np.real(comp * coeff[i] * np.exp(ev * t))\n",
    "\n",
    "    return sol\n",
    "    \n",
    "\n",
    "a = 2 + 0j\n",
    "b = -9/4 + 0j\n",
    "c = 1 + 0j\n",
    "d = -1 + 0j\n",
    "\n",
    "tau = a + d\n",
    "det = a*d - b*c\n",
    "disc = tau**2 - 4*det\n",
    "la1 = (-tau+np.sqrt(disc))/2\n",
    "la2 = (-tau-np.sqrt(disc))/2\n",
    "\n",
    "M = np.array([[a, b], [c, d]])\n",
    "\n",
    "x0 = np.array([1, 2/3])\n",
    "\n",
    "tmin = 0\n",
    "tmax = 10\n",
    "N = 1000\n",
    "t_eval = np.linspace(tmin, tmax, N)\n",
    "\n",
    "R, J = exact_sol(t_eval, x0, M)\n",
    "\n",
    "print(f'trace: {tau}, determinant: {det}, discriminant: {disc}')\n",
    "print(f'eigenvalues {la1}, {la2}')\n",
    "\n",
    "plt.plot(t_eval, R, label='Romeo')\n",
    "plt.plot(t_eval, J, label='Juliet')\n",
    "    \n",
    "plt.grid()\n",
    "plt.xlabel('time')\n",
    "plt.legend()\n"
   ]
  },
  {
   "cell_type": "code",
   "execution_count": null,
   "metadata": {},
   "outputs": [],
   "source": []
  }
 ],
 "metadata": {
  "language_info": {
   "name": "python",
   "pygments_lexer": "ipython3"
  }
 },
 "nbformat": 4,
 "nbformat_minor": 2
}
