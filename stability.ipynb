{
 "cells": [
  {
   "cell_type": "code",
   "execution_count": null,
   "metadata": {},
   "outputs": [],
   "source": [
    "import matplotlib.pyplot as plt\n",
    "import numpy as np"
   ]
  },
  {
   "cell_type": "code",
   "execution_count": null,
   "metadata": {},
   "outputs": [],
   "source": [
    "t = np.linspace(0, 5, 1000)\n",
    "A = 1\n",
    "B = 0.2\n",
    "\n",
    "plt.figure(figsize=(5, 5))\n",
    "plt.plot(t, A*np.exp(-2*t), label=f'$y_1(x)$ for $A = {A}$')\n",
    "plt.plot(t, 1+(B-1)*np.exp(-t), label=f'$y_2(x)$ for $B = {B}$')\n",
    "plt.xlabel('$x$')\n",
    "plt.ylabel('$y_1$, $y_2$')\n",
    "plt.legend()\n",
    "plt.grid()"
   ]
  },
  {
   "cell_type": "code",
   "execution_count": null,
   "metadata": {},
   "outputs": [],
   "source": [
    "xmax = ymax = 1\n",
    "n = 5\n",
    "\n",
    "init_list = [(xmax, i*ymax/(n)) for i in range(n)]\n",
    "init_list += [((i+1)*xmax/(n), 0) for i in range(n)]\n",
    "\n",
    "col = 'brown'\n",
    "\n",
    "plt.figure(figsize=(8, 5))\n",
    "for A, B in init_list:\n",
    "    plt.plot(A*np.exp(-2*t), 1+(B-1)*np.exp(-t), \n",
    "             label=f'orbit for $A={A}$ and $B={B}$', \n",
    "             color=col, linewidth=1)\n",
    "plt.xlabel('$y_1$')\n",
    "plt.ylabel('$y_2$')\n",
    "# plt.legend()\n",
    "# plt.grid()\n",
    "# Vector field\n",
    "X, Y = np.meshgrid(np.linspace(0, 1, 20), np.linspace(0, 1, 20))\n",
    "U = -2*X\n",
    "V = (1-Y)\n",
    "# Normalize arrows\n",
    "N = np.sqrt(U ** 2 + V ** 2)\n",
    "U = U / N\n",
    "V = V / N\n",
    "plt.quiver(X, Y, U, V, angles=\"xy\")\n"
   ]
  },
  {
   "cell_type": "code",
   "execution_count": null,
   "metadata": {},
   "outputs": [],
   "source": [
    "X, Y = np.meshgrid(np.linspace(-3, 3, 15), np.linspace(-3, 3, 15))\n",
    "U = X - Y\n",
    "V = X\n",
    "# Normalize arrows\n",
    "N = np.sqrt(U ** 2 + V ** 2)\n",
    "U = U / N\n",
    "V = V / N\n",
    "plt.figure(figsize=(5, 5))\n",
    "plt.plot(0, 0, '.r')\n",
    "plt.quiver(X, Y, U, V, angles='xy')\n"
   ]
  },
  {
   "cell_type": "code",
   "execution_count": null,
   "metadata": {},
   "outputs": [],
   "source": []
  }
 ],
 "metadata": {
  "language_info": {
   "name": "python",
   "pygments_lexer": "ipython3"
  }
 },
 "nbformat": 4,
 "nbformat_minor": 2
}
