{
 "cells": [
  {
   "cell_type": "code",
   "execution_count": null,
   "metadata": {},
   "outputs": [],
   "source": [
    "from scipy.integrate import solve_ivp\n",
    "import matplotlib.pyplot as plt\n",
    "import numpy as np\n",
    "from numpy.linalg import linalg as LA\n",
    "from sympy import Matrix, symbols, sqrt, Eq, solve"
   ]
  },
  {
   "cell_type": "code",
   "execution_count": null,
   "metadata": {},
   "outputs": [],
   "source": [
    "def exact_sol(t, x0, M):\n",
    "    eva, eve = LA.eig(M)\n",
    "    coeff = np.dot(LA.inv(eve), x0)\n",
    "\n",
    "    sol = np.zeros((len(x0), len(t)))\n",
    "\n",
    "    for i, ev in enumerate(eva):\n",
    "        for j, comp in enumerate(eve[:, i]):\n",
    "            sol[j] += np.real(comp * coeff[i] * np.exp(ev * t))\n",
    "\n",
    "    return sol\n",
    "    \n",
    "\n",
    "k1 = 3\n",
    "k2 = 1\n",
    "k3 = 2\n",
    "\n",
    "M = np.array([[-k1, k3, 0], [k1, -(k2+k3), 0], [0, k2, 0]])\n",
    "\n",
    "x0 = np.array([1, 0, 0])\n",
    "\n",
    "tmin = 0\n",
    "tmax = 10\n",
    "N = 1000\n",
    "t_eval = np.linspace(tmin, tmax, N)\n",
    "\n",
    "A, B, C = exact_sol(t_eval, x0, M)\n",
    "\n",
    "Ath = 0.5*np.exp((-3-np.sqrt(6))*t_eval)+0.5*np.exp((-3+np.sqrt(6))*t_eval)\n",
    "Bth = -np.sqrt(6)/4*np.exp((-3-np.sqrt(6))*t_eval)+np.sqrt(6)/4*np.exp((-3+np.sqrt(6))*t_eval)\n",
    "Cth = 1+(-2+np.sqrt(6))/4*np.exp((-3-np.sqrt(6))*t_eval)+(-2-np.sqrt(6))/4*np.exp((-3+np.sqrt(6))*t_eval)\n",
    "\n",
    "plt.plot(t_eval, A, label='[A]')\n",
    "plt.plot(t_eval, B, label='[B]')\n",
    "plt.plot(t_eval, C, label='[C]')\n",
    "    \n",
    "plt.grid()\n",
    "plt.xlabel('time')\n",
    "plt.legend()"
   ]
  },
  {
   "cell_type": "code",
   "execution_count": null,
   "metadata": {},
   "outputs": [],
   "source": [
    "M"
   ]
  },
  {
   "cell_type": "code",
   "execution_count": null,
   "metadata": {},
   "outputs": [],
   "source": [
    "k1, k2, k3 = symbols('k1 k2 k3')\n",
    "A = Matrix([[-k1, k3, 0], [k1, -(k2+k3), 0], [0, k2, 0]])\n",
    "\n",
    "values = [(k1, 3), (k2, 1), (k3, 2)]"
   ]
  },
  {
   "cell_type": "code",
   "execution_count": null,
   "metadata": {},
   "outputs": [],
   "source": [
    "a1, a2, a3 = symbols('a1 a2 a3')\n",
    "B = Matrix([[0, 0, 1], [2+sqrt(6), -3-sqrt(6), 1], [2-sqrt(6), -3+sqrt(6), 1]])\n",
    "\n",
    "eqs = Eq(Matrix([a1, a2, a3]).transpose()*B, Matrix([1, 0, 0]).transpose())\n",
    "solve(eqs)"
   ]
  },
  {
   "cell_type": "code",
   "execution_count": null,
   "metadata": {},
   "outputs": [],
   "source": [
    "B"
   ]
  },
  {
   "cell_type": "code",
   "execution_count": null,
   "metadata": {},
   "outputs": [],
   "source": []
  }
 ],
 "metadata": {
  "language_info": {
   "name": "python",
   "pygments_lexer": "ipython3"
  }
 },
 "nbformat": 4,
 "nbformat_minor": 2
}
